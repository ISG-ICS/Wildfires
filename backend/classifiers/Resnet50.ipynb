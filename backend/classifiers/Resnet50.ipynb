{
 "cells": [
  {
   "cell_type": "code",
   "execution_count": null,
   "outputs": [],
   "source": [
    "import torch\n",
    "import torchvision.transforms as transforms\n",
    "import torchvision.models as models\n",
    "from torch.autograd import Variable\n",
    "from PIL import Image\n"
   ],
   "metadata": {
    "collapsed": false,
    "pycharm": {
     "name": "#%%\n"
    }
   }
  },
  {
   "cell_type": "code",
   "execution_count": null,
   "outputs": [],
   "source": [
    "torch.cuda.is_available()\n"
   ],
   "metadata": {
    "collapsed": false,
    "pycharm": {
     "name": "#%% Check GPU availibility first\n"
    }
   }
  },
  {
   "cell_type": "code",
   "execution_count": null,
   "outputs": [],
   "source": [
    "imsize = 256\n",
    "loader = transforms.Compose([transforms.Resize(imsize), transforms.ToTensor()])\n",
    "gpu_dtype = torch.cuda.FloatTensor\n"
   ],
   "metadata": {
    "collapsed": false,
    "pycharm": {
     "name": "#%%\n"
    }
   }
  },
  {
   "cell_type": "code",
   "execution_count": null,
   "outputs": [],
   "source": [
    "def load_ResNet50_model(model_name):\n",
    "    \"\"\"load pre-trained model\"\"\"\n",
    "    model = models.resnet50(pretrained=True, progress=True).type(gpu_dtype)\n",
    "    model.load_state_dict(torch.load(model_name))\n",
    "    return model\n",
    "\n",
    "def image_loader(image_name):\n",
    "    \"\"\"load image, returns cuda tensor\"\"\"\n",
    "    image = Image.open(image_name)\n",
    "    image = loader(image).float()\n",
    "    image = Variable(image, requires_grad=True)\n",
    "    image = image.unsqueeze(0)  #this is for VGG, may not be needed for ResNet\n",
    "    return image.cuda()  #assumes that you're using GPU\n",
    "​\n",
    "def predict(model, image_name):\n",
    "    \"\"\"predict single image\"\"\"\n",
    "    image = image_loader(image_name)\n",
    "    model.eval()\n",
    "    output = model(image)#.data.cpu().max(1)\n",
    "    sm = torch.nn.Softmax(dim = 1)\n",
    "    scores = sm(output)\n",
    "    return torch.topk(scores, 2)\n",
    "  \n",
    "def prettify(tensor_topk):\n",
    "    \"\"\"transfer tensor object into dict with confidence level\"\"\"\n",
    "    result = {}\n",
    "    for i in range(tensor_topk.n_fields):\n",
    "        result[tensor_topk.indices.data.cpu()[0][i].item()] = tensor_topk.values.data.cpu()[0][i].item()\n",
    "    return result"
   ],
   "metadata": {
    "collapsed": false,
    "pycharm": {
     "name": "#%% # Model saving and loading functions\n"
    }
   }
  },
  {
   "cell_type": "code",
   "execution_count": null,
   "outputs": [],
   "source": [
    "if __name__ == '__main__':\n",
    "    model = load_ResNet50_model('test.ckpt')\n",
    "    image = image_loader('1.jpg')\n",
    "    # prettify result will be a dict -> {class: confidence_percentage}\n",
    "    result = prettify(image) \n",
    "    "
   ],
   "metadata": {
    "collapsed": false,
    "pycharm": {
     "name": "#%%\n"
    }
   }
  }
 ],
 "metadata": {
  "language_info": {
   "codemirror_mode": {
    "name": "ipython",
    "version": 2
   },
   "file_extension": ".py",
   "mimetype": "text/x-python",
   "name": "python",
   "nbconvert_exporter": "python",
   "pygments_lexer": "ipython2",
   "version": "2.7.6"
  },
  "kernelspec": {
   "name": "python3",
   "language": "python",
   "display_name": "Python 3"
  },
  "pycharm": {
   "stem_cell": {
    "cell_type": "raw",
    "source": [],
    "metadata": {
     "collapsed": false
    }
   }
  }
 },
 "nbformat": 4,
 "nbformat_minor": 0
}